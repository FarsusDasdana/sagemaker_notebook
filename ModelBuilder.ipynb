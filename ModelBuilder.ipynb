{
 "cells": [
  {
   "cell_type": "code",
   "execution_count": 1,
   "metadata": {},
   "outputs": [],
   "source": [
    "import boto3\n",
    "from sagemaker.processing import ScriptProcessor, ProcessingInput, ProcessingOutput\n",
    "from sagemaker.workflow.steps import ProcessingStep\n",
    "from sagemaker.workflow.pipeline import Pipeline\n",
    "\n",
    "from sagemaker.workflow.pipeline_context import LocalPipelineSession # local_run\n",
    "\n",
    "from sagemaker import get_execution_role\n",
    "import sagemaker.session"
   ]
  },
  {
   "cell_type": "code",
   "execution_count": 2,
   "metadata": {},
   "outputs": [],
   "source": [
    "from sagemaker.workflow.pipeline_experiment_config import PipelineExperimentConfig\n",
    "from sagemaker.workflow.execution_variables import ExecutionVariables\n",
    "from sagemaker.workflow.functions import Join\n",
    "\n",
    "from sagemaker.workflow.parameters import ParameterInteger,ParameterString, ParameterFloat,ParameterBoolean"
   ]
  },
  {
   "cell_type": "markdown",
   "metadata": {},
   "source": [
    "!mkdir -p docker"
   ]
  },
  {
   "cell_type": "markdown",
   "metadata": {},
   "source": [
    "%%writefile docker/Dockerfile\n",
    "FROM python:3.9-buster\n",
    "\n",
    "RUN pip install --upgrade pip\n",
    "RUN pip install pandas==1.4.2 sklearn pyarrow joblib s3fs lightgbm \n",
    "ENV PYTHONUNBUFFERED=TRUE  \n",
    "ENV PYTHONPATH \"${PYTHONPATH}:/opt/ml/processing/input/\"\n",
    "\n",
    "ENTRYPOINT [\"python3\"]"
   ]
  },
  {
   "cell_type": "markdown",
   "metadata": {},
   "source": [
    "https://docs.aws.amazon.com/prescriptive-guidance/latest/patterns/create-a-custom-docker-container-image-for-sagemaker-and-use-it-for-model-training-in-aws-step-functions.html"
   ]
  },
  {
   "cell_type": "markdown",
   "metadata": {},
   "source": [
    "Important: Before running the following cells, make sure that you’ve created a Dockerfile and stored it in the directory called docker. Also, make sure that you’ve created an Amazon ECR repository, and that you replace the ecr_repository value in the first cell with your repository’s name."
   ]
  },
  {
   "cell_type": "code",
   "execution_count": 4,
   "metadata": {},
   "outputs": [],
   "source": [
    "account_id = boto3.client('sts').get_caller_identity().get('Account')\n",
    "region = boto3.Session().region_name\n",
    "ecr_repository = 'sagemaker-container-simple-model-pipe' #repository name\n",
    "tag = ':latest'\n",
    "processing_repository_uri = '{}.dkr.ecr.{}.amazonaws.com/{}'.format(account_id, region, ecr_repository + tag)\n",
    "print(processing_repository_uri)"
   ]
  },
  {
   "cell_type": "markdown",
   "metadata": {},
   "source": [
    "Building docker image"
   ]
  },
  {
   "cell_type": "raw",
   "metadata": {},
   "source": [
    "# Build docker image\n",
    "!sm-docker build ./docker --repository 'sagemaker-container-simple-model-pipe:latest'"
   ]
  },
  {
   "cell_type": "code",
   "execution_count": 36,
   "metadata": {},
   "outputs": [],
   "source": [
    "#session = LocalPipelineSession() # local_run\n",
    "script_processor = ScriptProcessor(command=['python3'],\n",
    "                   image_uri=processing_repository_uri,\n",
    "                   role='arn:aws:iam::838325439115:role/service-role/AmazonSageMakerServiceCatalogProductsUseRole',\n",
    "                   instance_count=1,\n",
    "                   instance_type='ml.t3.medium', #local_run: 'local' // 'ml.t3.medium' \n",
    "                   #sagemaker_session=session # local_run\n",
    "                    )"
   ]
  },
  {
   "cell_type": "code",
   "execution_count": 58,
   "metadata": {},
   "outputs": [],
   "source": [
    "# define arguments\n",
    "MainPath = ParameterString(name=\"main_path\", default_value=\"s3://tenant-k/simple_pipe/model\")\n",
    "PredictionsPath = ParameterString(name=\"predictions_path\", default_value=\"s3://tenant-k/simple_pipe/model/predictions\")\n",
    "TrainingData = ParameterString(name=\"training_data\", default_value=\"diabetes\")\n",
    "TargetColumn = ParameterString(name=\"target_column\", default_value=\"Outcome\")\n",
    "TestSize = ParameterFloat(name=\"test_size\", default_value=0.25)\n",
    "ModelParamsPath = ParameterString(name=\"model_params_path\", default_value=\"s3://tenant-k/simple_pipe/model/model_params\")\n",
    "SaveTheModel = ParameterBoolean(name=\"save_the_model\", default_value=True)"
   ]
  },
  {
   "cell_type": "code",
   "execution_count": 59,
   "metadata": {},
   "outputs": [],
   "source": [
    "data_prep_step = ProcessingStep(\n",
    "                    name=\"DataPrepAndTraining\",\n",
    "                    processor=script_processor,\n",
    "                    code=\"prep_step.py\",\n",
    "                    inputs=[\n",
    "                        ProcessingInput(source='./', \n",
    "                                        destination=\"/opt/ml/processing/input/\"),\n",
    "                    ],\n",
    "                    outputs=[\n",
    "                        ProcessingOutput(output_name='output',\n",
    "                                         source=\"/opt/ml/processing/output/data/\")\n",
    "                    ],\n",
    "                    job_arguments=['--main_path', MainPath,\n",
    "                                   #'--training_data', TrainingData,\n",
    "                                   #'--target_column',TargetColumn,\n",
    "                                   #'--test_size',TestSize,\n",
    "                                   #'--model_params_path',ModelParamsPath,\n",
    "                                   #'--save_the_model',SaveTheModel\n",
    "                                  ]\n",
    "    \n",
    "                      )"
   ]
  },
  {
   "cell_type": "code",
   "execution_count": 61,
   "metadata": {},
   "outputs": [],
   "source": [
    "prediction = ProcessingStep(\n",
    "                    name=\"Predictions\",\n",
    "                    processor=script_processor,\n",
    "                    code=\"pred_step.py\",\n",
    "                    inputs=[\n",
    "                        ProcessingInput(source='./', \n",
    "                                        destination=\"/opt/ml/processing/input/\"),\n",
    "                    ],\n",
    "                    outputs=[\n",
    "                        ProcessingOutput(output_name='models',\n",
    "                                         source=\"/opt/ml/processing/output/data/\", \n",
    "                                         destination=\"s3://tenant-k/simple_pipe/model\")\n",
    "                    ],\n",
    "                    job_arguments=['--main_path', MainPath,\n",
    "                                   #'--predictions_path', PredictionsPath\n",
    "                                  ],\n",
    "                    \n",
    "                    depends_on = [data_prep_step]\n",
    "                      )"
   ]
  },
  {
   "cell_type": "markdown",
   "metadata": {},
   "source": [
    "Defining Parameters."
   ]
  },
  {
   "cell_type": "code",
   "execution_count": 62,
   "metadata": {},
   "outputs": [],
   "source": [
    "pipeline_name = \"SimpleModelPipe\"\n",
    "pipeline = Pipeline(name=pipeline_name,\n",
    "                    pipeline_experiment_config=PipelineExperimentConfig(\n",
    "                          ExecutionVariables.PIPELINE_NAME,\n",
    "                          Join(on=\"-\", values=[\"SimpleModelPipe\", ExecutionVariables.PIPELINE_EXECUTION_ID])),  \n",
    "                    parameters=[MainPath,\n",
    "                                #PredictionsPath,TrainingData,TargetColumn,TestSize,ModelParamsPath,SaveTheModel\n",
    "                               ],\n",
    "                    steps=[data_prep_step,prediction],\n",
    "                    #sagemaker_session=session # local run\n",
    ")"
   ]
  },
  {
   "cell_type": "markdown",
   "metadata": {},
   "source": [
    "Saving pipeline with the role."
   ]
  },
  {
   "cell_type": "code",
   "execution_count": 63,
   "metadata": {},
   "outputs": [
    {
     "data": {
      "text/plain": [
       "{'PipelineArn': 'arn:aws:sagemaker:eu-central-1:838325439115:pipeline/simplemodelpipe',\n",
       " 'ResponseMetadata': {'RequestId': 'd6315f5a-6395-4422-b744-ace0eda7c10b',\n",
       "  'HTTPStatusCode': 200,\n",
       "  'HTTPHeaders': {'x-amzn-requestid': 'd6315f5a-6395-4422-b744-ace0eda7c10b',\n",
       "   'content-type': 'application/x-amz-json-1.1',\n",
       "   'content-length': '86',\n",
       "   'date': 'Mon, 21 Nov 2022 09:01:44 GMT'},\n",
       "  'RetryAttempts': 0}}"
      ]
     },
     "execution_count": 63,
     "metadata": {},
     "output_type": "execute_result"
    }
   ],
   "source": [
    "role = get_execution_role()\n",
    "pipeline.upsert(role_arn=role)"
   ]
  },
  {
   "cell_type": "markdown",
   "metadata": {},
   "source": [
    "Now we will give parameters inside pipeline and run it."
   ]
  },
  {
   "cell_type": "code",
   "execution_count": 64,
   "metadata": {},
   "outputs": [],
   "source": [
    "execution = pipeline.start(\n",
    "    parameters=dict(\n",
    "        main_path=\"s3://tenant-k/simple_pipe/model\"\n",
    "    ))"
   ]
  },
  {
   "cell_type": "markdown",
   "metadata": {},
   "source": [
    "## Deleting a pipelilne"
   ]
  },
  {
   "cell_type": "code",
   "execution_count": null,
   "metadata": {},
   "outputs": [],
   "source": [
    "pipeline.delete()"
   ]
  },
  {
   "cell_type": "markdown",
   "metadata": {},
   "source": [
    "# Pipeline Informations"
   ]
  },
  {
   "cell_type": "code",
   "execution_count": null,
   "metadata": {},
   "outputs": [],
   "source": []
  },
  {
   "cell_type": "code",
   "execution_count": null,
   "metadata": {},
   "outputs": [],
   "source": []
  },
  {
   "cell_type": "code",
   "execution_count": null,
   "metadata": {},
   "outputs": [],
   "source": []
  },
  {
   "cell_type": "code",
   "execution_count": null,
   "metadata": {},
   "outputs": [],
   "source": []
  }
 ],
 "metadata": {
  "instance_type": "ml.t3.medium",
  "kernelspec": {
   "display_name": "Python 3 (Data Science)",
   "language": "python",
   "name": "python3__SAGEMAKER_INTERNAL__arn:aws:sagemaker:eu-central-1:936697816551:image/datascience-1.0"
  },
  "language_info": {
   "codemirror_mode": {
    "name": "ipython",
    "version": 3
   },
   "file_extension": ".py",
   "mimetype": "text/x-python",
   "name": "python",
   "nbconvert_exporter": "python",
   "pygments_lexer": "ipython3",
   "version": "3.7.10"
  }
 },
 "nbformat": 4,
 "nbformat_minor": 4
}
